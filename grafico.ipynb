{
 "cells": [
  {
   "cell_type": "code",
   "execution_count": 1,
   "metadata": {},
   "outputs": [],
   "source": [
    "import random"
   ]
  },
  {
   "cell_type": "code",
   "execution_count": 2,
   "metadata": {},
   "outputs": [],
   "source": [
    "import numpy as np"
   ]
  },
  {
   "cell_type": "code",
   "execution_count": 3,
   "metadata": {},
   "outputs": [],
   "source": [
    "import matplotlib.pyplot as plt"
   ]
  },
  {
   "cell_type": "code",
   "execution_count": 4,
   "metadata": {},
   "outputs": [],
   "source": [
    "import seaborn as sns"
   ]
  },
  {
   "cell_type": "code",
   "execution_count": 10,
   "metadata": {},
   "outputs": [],
   "source": [
    "import pandas as pd"
   ]
  },
  {
   "cell_type": "code",
   "execution_count": 16,
   "metadata": {},
   "outputs": [],
   "source": [
    "caminho_csv = r\"E:\\CIÊNCIAS DA COMPUTAÇÃO\\4º PERÍODO\\PROJETO E ANÁLISE DE ALGORITMOS\\tempo_execução.csv\""
   ]
  },
  {
   "cell_type": "code",
   "execution_count": 22,
   "metadata": {},
   "outputs": [
    {
     "ename": "SyntaxError",
     "evalue": "expected 'except' or 'finally' block (1492368443.py, line 12)",
     "output_type": "error",
     "traceback": [
      "\u001b[1;36m  Cell \u001b[1;32mIn[22], line 12\u001b[1;36m\u001b[0m\n\u001b[1;33m    pd.set_option('display.max_rows', None) print(df)\u001b[0m\n\u001b[1;37m    ^\u001b[0m\n\u001b[1;31mSyntaxError\u001b[0m\u001b[1;31m:\u001b[0m expected 'except' or 'finally' block\n"
     ]
    }
   ],
   "source": [
    "try: # Leitura do arquivo CSV df = pd.read_csv(caminho_csv, encoding='UTF-8', sep=';') # Remover valores ausentes df = df.dropna() # Exibir as primeiras linhas do DataFrame print(df.head()) # Exibir todas as linhas (opcional) pd.set_option('display.max_rows', None) print(df) # Exibir informações básicas do DataFrame print(df.info()) # Exibir estatísticas descritivas print(df.describe()) except FileNotFoundError as e: print(f\"Erro: {e}\")try:\n",
    "    # Leitura do arquivo CSV\n",
    "    df = pd.read_csv(caminho_csv, encoding='UTF-8', sep=';')\n",
    "\n",
    "    # Remover valores ausentes\n",
    "    df = df.dropna()\n",
    "\n",
    "    # Exibir as primeiras linhas do DataFrame\n",
    "    print(df.head())\n",
    "\n",
    "# Exibir todas as linhas (opcional) \n",
    "pd.set_option('display.max_rows', None) print(df) \n",
    "# Exibir informações básicas do DataFrame \n",
    "print(df.info()) \n",
    "# Exibir estatísticas descritivas \n",
    "print(df.describe())\n",
    "\n",
    "\n",
    "\n",
    "\n",
    "\n",
    "\n",
    "\n",
    "\n",
    "\n",
    "    \n",
    "except FileNotFoundError as e:\n",
    "print(f\"Erro: {e}\")\n",
    "\n",
    "\n",
    "\n",
    "\n",
    "\n",
    "\n",
    "\n"
   ]
  }
 ],
 "metadata": {
  "kernelspec": {
   "display_name": "Python 3",
   "language": "python",
   "name": "python3"
  },
  "language_info": {
   "codemirror_mode": {
    "name": "ipython",
    "version": 3
   },
   "file_extension": ".py",
   "mimetype": "text/x-python",
   "name": "python",
   "nbconvert_exporter": "python",
   "pygments_lexer": "ipython3",
   "version": "3.12.3"
  }
 },
 "nbformat": 4,
 "nbformat_minor": 2
}
